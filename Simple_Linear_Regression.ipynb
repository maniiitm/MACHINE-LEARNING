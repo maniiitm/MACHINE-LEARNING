{
  "nbformat": 4,
  "nbformat_minor": 0,
  "metadata": {
    "colab": {
      "name": "Simple Linear Regression.ipynb",
      "provenance": []
    },
    "kernelspec": {
      "name": "python3",
      "display_name": "Python 3"
    },
    "language_info": {
      "name": "python"
    }
  },
  "cells": [
    {
      "cell_type": "markdown",
      "source": [
        "Now, the task is to find a line that fits best in the above scatter plot so that we can predict the response for any new feature values. (i.e a value of x not present in a dataset)\n",
        "This line is called a regression line.\n",
        "The equation of regression line is represented as:\n",
        "\n",
        "\n",
        "Here,  \n",
        "\n",
        "    h(x_i) represents the predicted response value for ith observation.\n",
        "    b_0 and b_1 are regression coefficients and represent y-intercept and slope of regression line respectively.\n",
        "\n",
        "To create our model, we must “learn” or estimate the values of regression coefficients b_0 and b_1. And once we’ve estimated these coefficients, we can use the model to predict responses!\n",
        "In this article, we are going to use the principle of  Least Squares.\n",
        "Now consider:\n",
        "Here, e_i is a residual error in ith observation. \n",
        "So, our aim is to minimize the total residual error.\n",
        "We define the squared error or cost function, J as: \n",
        "\n",
        "and our task is to find the value of b_0 and b_1 for which J(b_0,b_1) is minimum!\n",
        "Without going into the mathematical details, we present the result here:\n",
        "\n",
        "![image.png](data:image/png;base64,iVBORw0KGgoAAAANSUhEUgAAAD4AAAAVCAYAAAAeql2xAAAABHNCSVQICAgIfAhkiAAAAr5JREFUWEfdlzuO1EAQhvdBQsQEBIQtTjBwAfoIww06JMNHcEiGb4BvwHADH8EhEXSGyBwQIBHA/1nVqLa1mvUAMztDSR/16q5HGy3L9cXpStJoQXwXG9GIrY27kn5luSfSbyz+0fTZqqDJu2p67/fKsXyRtvJd6rzMtcYdRXBjEysyyHjt/ODsszf5wll8FqnahkcYxE/xXvivXx3dz93oeBTo+xC/SNAA2Q1RL9kr1+w75NUtFygyGDQ59vJBPddurmyzlFByOcxBZIsxK/Mn0VksSreCXag771MvTrAXE0nTHD6mRDVLriF273xmLDMF2Sy0FdiDYPYsWoFgB0E8mi91U5rKp2BpUp89lE8/lklGqBqRj6I1XdLcIddbIJaE9GA2+8xyWQzpsmCQTZEX4oP4fdidPUWTuaMNNklnMZqfTG+k4cbiJHsRDJbnMVpRJMjIzq9NzneCn7a75KWSDHcMYVF6oXsx0tR/8WQJ4kWyjCBYKAouow8lj1X4+QGKP1XNT67utwc7mqyUK1+FVwIWP6Rcq/jDAzT4UtX9URbni+aqIUsOew5BnSWP0+ncdEvtr4rxcwUJglqjWBk9CZMknQU5BJuze0nSaSiyljGIUrTEiR1D6Nu7RkF25/xWNrEiW2cvMv1fdV4ruVsb2dOiKv/+EA/ve2f5frkov3Vtve3Cd5vp7iPziWHhub89FlSAxfk9nP+MrKqCnXx+h38rYpVb7PK6sEuCkknw6lHUg+y6+6c5emysJ31rYeZGTCLUySU+BU5JWKKeaXAD8hheWjnRAmjy3C+xlcXwYa59JUaME5KoWYKbh0G3zm+qWVmMHbiTBeexiSNRcD+JLOb4rn/Hyd+XMNzGmmN3ZgfpQTRiFGvRismQmpcmxj1kazZnskBfXPLHfyJJezwSz8Q7wW6D6ER5JHyYfgGmyITBRHvPjQAAAABJRU5ErkJggg==)\n",
        "\n",
        "![image.png](data:image/png;base64,iVBORw0KGgoAAAANSUhEUgAAAFIAAAANCAYAAAA69Dm5AAAABHNCSVQICAgIfAhkiAAAApNJREFUWEfdlc2N1EAQhXcRAcyBO33mgomAPnLDEaAOYcjAIQwSZ+QQHEITASYDZ8Bw5cT7rG6rVdsez88OB0p6W1Wv/ntmtA8PT6UVFQQvHJ6G/yumKW7tZe+uve6lKeQRJ2FMvJcGMfn3Vq804FNlyFdxfyr8LZRTMeiLJnvZXeFb842ID4Y8yv9mE2lUSi+HT+1fyqOGWdxjfjBNud3eX5tb3a38RvJgg7BL1S7psdbtThyzmXvvmflGzmAe0go+2afU2xRkxybb9iF7BYYUZBjNLxGn5NcbBb8Vrz0UtSzmhT7lsENMvNSziVcn7uwE7KOwF7aEHOqC0ApRgOte6I8VEsCBhBRspEMC9prsFLBffeuTUxNmDoIvgnBjLflGjh2OQid4ISRbav5Ffix8OMQL7DcJ1DohJkz2n434RUhukneQ9smOhb0kJ2O0xAU+M5zAIbkP8+NKj26Fz/Qko9/IyWFu5fEQ5v8UPic/q1j45V7s/ZAf0ssuE4k5gYOI5cPgMxdxjHj57y1pfJb+spLTih+KGP3mRSvSVbhzqJ2S2KGURs73REwmVnO9yK4MlA/ZFwGG7QUOc0I5GJt4TaYaaTh7RBmm75gIbHBOzzPGLim+ktyJA6ekVXAS8v7YCPyQHxJyJgSW3wtBgHeCldzM8uSDa2VUYSM44SDEaxudqOM+wAx0EHohCqckKMhOrcCe1GZ7qSMJ8UKT7Kzwh4LDtjmm5CbXpf69dLipU7049+QGX0+Z2WhiPFyZX9pzKoSbrXXh8WgEykddr7g8ElQypjJX2Jd3Wq9g/3Y9vEQaWT/OyFtSHmUFod8oYgGfcqL0cSP/mrBTEUf+Et4JnfDcc7x68mGd6usUB1m28ue8v7ddeeC9WLAeAAAAAElFTkSuQmCC)\n",
        "\n",
        "where SS_xy is the sum of cross-deviations of y and x: \n",
        "\n",
        "and SS_xx is the sum of squared deviations of x: "
      ],
      "metadata": {
        "id": "HPHg96qeuH9n"
      }
    },
    {
      "cell_type": "code",
      "source": [
        "def lr(x,y):\n",
        "  n=len(x)\n",
        "  mx=np.mean(x)\n",
        "  my=np.mean(y)\n",
        "  sxx=np.sum(x*x) - n*mx*mx\n",
        "  sxy=np.sum(x*y) - n*mx*my\n",
        "  b=[0,0]\n",
        "  b[1] = sxy/sxx\n",
        "  b[0] = my - b[1]*mx\n",
        "  yp=[]\n",
        "  for i in x:\n",
        "    k = b[0] + i*b[1]\n",
        "    yp.append(k)\n",
        "  plt.scatter(x,y,color='orange')\n",
        "  plt.plot(x,yp,color='pink')\n",
        "  plt.show()\n",
        "  print(b)"
      ],
      "metadata": {
        "id": "_1c7NYjqu1kT"
      },
      "execution_count": 3,
      "outputs": []
    },
    {
      "cell_type": "code",
      "execution_count": 4,
      "metadata": {
        "colab": {
          "base_uri": "https://localhost:8080/",
          "height": 282
        },
        "id": "Ou29xLriq8VP",
        "outputId": "c762402f-2aa7-41eb-d0bd-c7bb196eb740"
      },
      "outputs": [
        {
          "output_type": "display_data",
          "data": {
            "text/plain": [
              "<Figure size 432x288 with 1 Axes>"
            ],
            "image/png": "[encoded data removed]"
          },
          "metadata": {
            "needs_background": "light"
          }
        },
        {
          "output_type": "stream",
          "name": "stdout",
          "text": [
            "[1.2363636363636363, 1.1696969696969697]\n"
          ]
        }
      ],
      "source": [
        "import numpy as np\n",
        "import matplotlib.pyplot as plt\n",
        "x = np.array([0, 1, 2, 3, 4, 5, 6, 7, 8, 9])\n",
        "y = np.array([1, 3, 2, 5, 7, 8, 8, 9, 10, 12])\n",
        "lr(x,y)"
      ]
    }
  ]
}