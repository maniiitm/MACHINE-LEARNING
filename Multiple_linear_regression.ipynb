{
  "nbformat": 4,
  "nbformat_minor": 0,
  "metadata": {
    "colab": {
      "name": "Multiple linear regression.ipynb",
      "provenance": []
    },
    "kernelspec": {
      "name": "python3",
      "display_name": "Python 3"
    },
    "language_info": {
      "name": "python"
    }
  },
  "cells": [
    {
      "cell_type": "markdown",
      "source": [
        "Multiple linear regression attempts to model the relationship between two or more features and a response by fitting a linear equation to the observed data.\n",
        "Clearly, it is nothing but an extension of simple linear regression.\n",
        "Consider a dataset with p features(or independent variables) and one response(or dependent variable). \n",
        "Also, the dataset contains n rows/observations.\n",
        "We define:\n",
        "X (feature matrix) = a matrix of size n X p where x_{ij} denotes the values of jth feature for ith observation.\n",
        "So, \n",
        "\\begin{pmatrix} x_{11} & \\cdots & x_{1p} \\\\ x_{21} & \\cdots & x_{2p} \\\\ \\vdots & \\ddots & \\vdots \\\\ x_{n1} & \\vdots & x_{np} \\end{pmatrix}\n",
        "and\n",
        "y (response vector) = a vector of size n where y_{i} denotes the value of response for ith observation.\n",
        "y = \\begin{bmatrix} y_1\\\\ y_2\\\\ .\\\\ .\\\\ y_n \\end{bmatrix}\n",
        "The regression line for p features is represented as: \n",
        "h(x_i) = \\beta_0 + \\beta_1x_{i1} + \\beta_2x_{i2} + .... + \\beta_px_{ip}\n",
        "where h(x_i) is predicted response value for ith observation and b_0, b_1, …, b_p are the regression coefficients.\n",
        "Also, we can write: \n",
        "\\newline y_i = \\beta_0 + \\beta_1x_{i1} + \\beta_2x_{i2} + .... + \\beta_px_{ip} + \\varepsilon_i \\newline or \\newline y_i = h(x_i) + \\varepsilon_i \\Rightarrow \\varepsilon_i = y_i - h(x_i)\n",
        "where e_i represents residual error in ith observation.\n",
        "We can generalize our linear model a little bit more by representing feature matrix X as: \n",
        "X = \\begin{pmatrix} 1 & x_{11} & \\cdots & x_{1p} \\\\ 1 & x_{21} & \\cdots & x_{2p} \\\\ \\vdots & \\vdots & \\ddots & \\vdots \\\\ 1 & x_{n1} & \\cdots & x_{np} \\end{pmatrix}\n",
        "So now, the linear model can be expressed in terms of matrices as: \n",
        "y = X\\beta + \\varepsilon\n",
        "where, \n",
        "\\beta = \\begin{bmatrix} \\beta_0\\\\ \\beta_1\\\\ .\\\\ .\\\\ \\beta_p \\end{bmatrix}\n",
        "and\n",
        "\\varepsilon = \\begin{bmatrix} \\varepsilon_1\\\\ \\varepsilon_2\\\\ .\\\\ .\\\\ \\varepsilon_n \\end{bmatrix}\n",
        "Now, we determine an estimate of b, i.e. b’ using the Least Squares method.\n",
        "As already explained, the Least Squares method tends to determine b’ for which total residual error is minimized.\n",
        "We present the result directly here: \n",
        "\\hat{\\beta} = ({X}'X)^{-1} {X}'y\n",
        "where ‘ represents the transpose of the matrix while -1 represents the matrix inverse.\n",
        "Knowing the least square estimates, b’, the multiple linear regression model can now be estimated as:\n",
        "\\hat{y} = X\\hat{\\beta}\n",
        "where y’ is the estimated response vector."
      ],
      "metadata": {
        "id": "ynFqvspr1HQ7"
      }
    },
    {
      "cell_type": "code",
      "source": [
        "import matplotlib.pyplot as plt\n",
        "import numpy as np\n",
        "from sklearn import metrics,datasets,linear_model"
      ],
      "metadata": {
        "id": "TMY1OWb51RNI"
      },
      "execution_count": 2,
      "outputs": []
    },
    {
      "cell_type": "code",
      "execution_count": 16,
      "metadata": {
        "colab": {
          "base_uri": "https://localhost:8080/",
          "height": 977
        },
        "id": "aGNa0VsCyKO2",
        "outputId": "e7150252-22d3-4a29-83db-a37cfb39c172"
      },
      "outputs": [
        {
          "output_type": "stream",
          "name": "stderr",
          "text": [
            "/usr/local/lib/python3.7/dist-packages/sklearn/utils/deprecation.py:87: FutureWarning: Function load_boston is deprecated; `load_boston` is deprecated in 1.0 and will be removed in 1.2.\n",
            "\n",
            "    The Boston housing prices dataset has an ethical problem. You can refer to\n",
            "    the documentation of this function for further details.\n",
            "\n",
            "    The scikit-learn maintainers therefore strongly discourage the use of this\n",
            "    dataset unless the purpose of the code is to study and educate about\n",
            "    ethical issues in data science and machine learning.\n",
            "\n",
            "    In this special case, you can fetch the dataset from the original\n",
            "    source::\n",
            "\n",
            "        import pandas as pd\n",
            "        import numpy as np\n",
            "\n",
            "\n",
            "        data_url = \"http://lib.stat.cmu.edu/datasets/boston\"\n",
            "        raw_df = pd.read_csv(data_url, sep=\"\\s+\", skiprows=22, header=None)\n",
            "        data = np.hstack([raw_df.values[::2, :], raw_df.values[1::2, :2]])\n",
            "        target = raw_df.values[1::2, 2]\n",
            "\n",
            "    Alternative datasets include the California housing dataset (i.e.\n",
            "    :func:`~sklearn.datasets.fetch_california_housing`) and the Ames housing\n",
            "    dataset. You can load the datasets as follows::\n",
            "\n",
            "        from sklearn.datasets import fetch_california_housing\n",
            "        housing = fetch_california_housing()\n",
            "\n",
            "    for the California housing dataset and::\n",
            "\n",
            "        from sklearn.datasets import fetch_openml\n",
            "        housing = fetch_openml(name=\"house_prices\", as_frame=True)\n",
            "\n",
            "    for the Ames housing dataset.\n",
            "    \n",
            "  warnings.warn(msg, category=FutureWarning)\n"
          ]
        },
        {
          "output_type": "stream",
          "name": "stdout",
          "text": [
            "[-1.03747356e-01  5.58589924e-02  5.88240770e-02  2.50523544e+00\n",
            " -1.90284888e+01  3.25353601e+00 -3.22150522e-03 -1.57603462e+00\n",
            "  2.58716068e-01 -1.14681299e-02 -1.10777478e+00  5.50051783e-03\n",
            " -5.59569992e-01] 45.48141959325114\n",
            "0.688260714253802\n"
          ]
        },
        {
          "output_type": "display_data",
          "data": {
            "text/plain": [
              "<Figure size 432x288 with 1 Axes>"
            ],
            "image/png": "[encoded data removed]"
          },
          "metadata": {
            "needs_background": "light"
          }
        }
      ],
      "source": [
        "df=datasets.load_boston(return_X_y=False)\n",
        "x=df.data\n",
        "y=df.target\n",
        "from sklearn.model_selection import train_test_split\n",
        "xtr,xte,ytr,yte=train_test_split(x,y,test_size=0.4,random_state=0)\n",
        "lr = linear_model.LinearRegression()\n",
        "lr.fit(xtr,ytr)\n",
        "print(lr.coef_,lr.intercept_)\n",
        "print(lr.score(xte,yte))\n",
        "plt.scatter(lr.predict(xtr),ytr-lr.predict(xtr),color='orange')\n",
        "plt.scatter(lr.predict(xte),yte-lr.predict(xte),color='pink')\n",
        "plt.hlines(y=0,xmin=0,xmax=50)\n",
        "plt.show()"
      ]
    }
  ]
}